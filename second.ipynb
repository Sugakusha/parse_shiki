{
 "cells": [
  {
   "cell_type": "code",
   "execution_count": 1,
   "metadata": {
    "collapsed": true
   },
   "outputs": [],
   "source": [
    "import requests\n",
    "import time\n",
    "import pandas as pd\n",
    "import json\n",
    "from bs4 import BeautifulSoup\n",
    "import re"
   ]
  },
  {
   "cell_type": "code",
   "execution_count": 2,
   "metadata": {
    "collapsed": true
   },
   "outputs": [],
   "source": [
    "class ParseError(Exception):\n",
    "    pass\n",
    "\n",
    "class PageError(Exception):\n",
    "    pass\n",
    "\n",
    "class Parse:\n",
    "    def __init__(self, url:str) -> None:\n",
    "        self.url = url\n",
    "        assert isinstance(self.url, str), 'url has the type str'\n",
    "    @property        \n",
    "    def get_roles(self) -> dict:\n",
    "        self.page_roles = requests.get(self.url + '/roles', timeout = 2).json()\n",
    "        self.roles = dict.fromkeys(['characters'],[d.get('character').get('name') for d in \n",
    "                                                 filter(lambda roles: 'Main' in roles['roles_russian'], self.page_roles)])\n",
    "\n",
    "        self.roles['director'] = [d.get('person').get('name') for d in \n",
    "                                          filter(lambda roles: 'Режиссёр' in roles['roles_russian'], self.page_roles)]\n",
    "\n",
    "        self.roles['original'] = [d.get('person').get('name') for d in \n",
    "                                                  filter(lambda roles: 'Автор оригинала' in roles['roles_russian'], self.page_roles)]\n",
    "        \n",
    "        return self.roles\n",
    "    def get_add_page(self, add_url:str) -> dict:\n",
    "        try:\n",
    "            self.add_page = len(requests.get(self.url + '/' + add_url, timeout = 1).json())\n",
    "            return {add_url : self.add_page}\n",
    "        except:\n",
    "            return {}            \n",
    "    def __enter__(self) -> 'json':\n",
    "        self.page = requests.get(self.url, timeout = 3)\n",
    "        if self.page.status_code == 404:\n",
    "                raise PageError('не найдена страница', self.url)\n",
    "        \n",
    "        try:\n",
    "            return {**self.page.json(), **self.get_roles, \n",
    "                        **self.get_add_page('related'), **self.get_add_page('similar'), **self.get_add_page('external_links')}\n",
    "        except json.decoder.JSONDecodeError:\n",
    "            time.sleep(3)\n",
    "            self.__enter__()\n",
    "            return {**self.page.json(), **self.get_roles, \n",
    "                        **self.get_add_page('related'), **self.get_add_page('similar'), **self.get_add_page('external_links')}\n",
    "        \n",
    "\n",
    "            \n",
    "            \n",
    "            \n",
    "    def __exit__(self, exc_type, exc_value, exc_trace) -> None:\n",
    "        if exc_type:\n",
    "            raise ParseError(exc_value)  "
   ]
  },
  {
   "cell_type": "code",
   "execution_count": null,
   "metadata": {},
   "outputs": [],
   "source": [
    "%%time\n",
    "start_page = 1\n",
    "end_page = 2\n",
    "urls = 'https://shikimori.org/animes/kind/!music/status/released/page/'\n",
    "data = pd.DataFrame()\n",
    "for link in range(start_page, end_page):\n",
    "    req = requests.get(urls + str(link))\n",
    "    soup_pages = BeautifulSoup(req.text, 'html5lib')\n",
    "    list_pages = (url.get('data-href') for url in soup_pages.find_all('div', class_ = 'cover linkeable anime-tooltip'))\n",
    "    for url in list_pages:\n",
    "        with Parse(url = 'https://shikimori.org/api/animes/' + url.split('animes/')[1]) as page:\n",
    "            data = data.append(page, ignore_index = True)"
   ]
  },
  {
   "cell_type": "code",
   "execution_count": 51,
   "metadata": {
    "collapsed": true
   },
   "outputs": [],
   "source": [
    "data.to_csv('data_shiki.csv')"
   ]
  }
 ],
 "metadata": {
  "kernelspec": {
   "display_name": "Python 3",
   "language": "python",
   "name": "python3"
  },
  "language_info": {
   "codemirror_mode": {
    "name": "ipython",
    "version": 3
   },
   "file_extension": ".py",
   "mimetype": "text/x-python",
   "name": "python",
   "nbconvert_exporter": "python",
   "pygments_lexer": "ipython3",
   "version": "3.5.3"
  }
 },
 "nbformat": 4,
 "nbformat_minor": 2
}
